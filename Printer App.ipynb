{
 "cells": [
  {
   "cell_type": "code",
   "execution_count": 43,
   "metadata": {},
   "outputs": [
    {
     "name": "stdout",
     "output_type": "stream",
     "text": [
      "Printer App\n",
      "This app is made by: Lauri\n"
     ]
    }
   ],
   "source": [
    "creator = \"Lauri\"\n",
    "\n",
    "print(\"Printer App\")\n",
    "print(\"This app is made by:\",creator)\n"
   ]
  },
  {
   "cell_type": "code",
   "execution_count": 44,
   "metadata": {},
   "outputs": [
    {
     "name": "stdout",
     "output_type": "stream",
     "text": [
      "4\n",
      "The value of number1 is 4\n",
      "The value of number2 is 8\n",
      "4 * 8 = 32\n",
      "4 + 8 = 12\n",
      "4 / 8 = 0.5\n",
      "4 - 8 = -4\n"
     ]
    }
   ],
   "source": [
    "number1 = 4\n",
    "number2 = 8\n",
    "\n",
    "multiplication = int\n",
    "addition = int\n",
    "division = int\n",
    "substraction = int\n",
    "\n",
    "addition = number1 + number2\n",
    "division = number1 / number2\n",
    "substraction = number1 - number2\n",
    "multiplication = number1 * number2\n",
    "\n",
    "\n",
    "# Print variables\n",
    "print(number1)\n",
    "\n",
    "print(\"The value of number1 is\",number1)\n",
    "\n",
    "print(\"The value of number2 is\",number2)\n",
    "\n",
    "print(number1,\"*\",number2,\"=\",multiplication)\n",
    "print(number1,\"+\",number2,\"=\",addition)\n",
    "print(number1,\"/\",number2,\"=\",division)\n",
    "print(number1,\"-\",number2,\"=\",substraction)"
   ]
  }
 ],
 "metadata": {
  "kernelspec": {
   "display_name": "Python 3",
   "language": "python",
   "name": "python3"
  },
  "language_info": {
   "codemirror_mode": {
    "name": "ipython",
    "version": 3
   },
   "file_extension": ".py",
   "mimetype": "text/x-python",
   "name": "python",
   "nbconvert_exporter": "python",
   "pygments_lexer": "ipython3",
   "version": "3.12.0"
  }
 },
 "nbformat": 4,
 "nbformat_minor": 2
}
