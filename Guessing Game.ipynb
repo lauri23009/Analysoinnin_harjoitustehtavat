{
 "cells": [
  {
   "cell_type": "code",
   "execution_count": 14,
   "metadata": {},
   "outputs": [
    {
     "name": "stdout",
     "output_type": "stream",
     "text": [
      "Please, guess my name.\n"
     ]
    },
    {
     "name": "stdout",
     "output_type": "stream",
     "text": [
      "1 first letters of the name: L\n",
      "Do you want to quit (y/n) ?\n",
      "Please, guess my name.\n",
      "2 first letters of the name: La\n",
      "Do you want to quit (y/n) ?\n",
      "Please, guess my name.\n",
      "Congratulations!\n",
      "You guessed 3 times.\n"
     ]
    }
   ],
   "source": [
    "def display_letters(name, count):\n",
    "    return name[:count]\n",
    "\n",
    "nimi1 = \"Lauri\"\n",
    "nimi2 = \"\"\n",
    "lause1 = \"Please, guess my name.\"\n",
    "lause2 = \"Do you want to quit (y/n) ?\"\n",
    "guess = 0\n",
    "\n",
    "while nimi2 != nimi1:\n",
    "    print(lause1)\n",
    "    nimi2 = input()\n",
    "    guess += 1\n",
    "    if nimi2 != nimi1:\n",
    "        wrong_guess = guess\n",
    "        letters = display_letters(nimi1, wrong_guess)\n",
    "        print(f\"{wrong_guess} first letters of the name: {letters}\")\n",
    "        print(lause2)\n",
    "        nimi2 = input()\n",
    "\n",
    "    # if nimi2 != nimi1:\n",
    "    #     first_character = nimi1[0]\n",
    "    #     print(f\"First letter of the name {first_character}\")\n",
    "    #     print(lause2)\n",
    "    #     nimi2 = input()\n",
    "        \n",
    "    if nimi2.lower() == \"y\":\n",
    "        break\n",
    "\n",
    "\n",
    "if nimi2.lower() == \"y\":\n",
    "    guess -= 1\n",
    "    print(f\"You guessed {guess} times.\")\n",
    "elif nimi2 == nimi1:\n",
    "    print(\"Congratulations!\")\n",
    "    print(f\"You guessed {guess} times.\")\n",
    "\n",
    "\n",
    "\n",
    "\n",
    "\n",
    "\n",
    "\n",
    "\t\t\n",
    "\t\t\n",
    "\t\n",
    "\n"
   ]
  }
 ],
 "metadata": {
  "kernelspec": {
   "display_name": "Python 3",
   "language": "python",
   "name": "python3"
  },
  "language_info": {
   "codemirror_mode": {
    "name": "ipython",
    "version": 3
   },
   "file_extension": ".py",
   "mimetype": "text/x-python",
   "name": "python",
   "nbconvert_exporter": "python",
   "pygments_lexer": "ipython3",
   "version": "3.12.0"
  }
 },
 "nbformat": 4,
 "nbformat_minor": 2
}
