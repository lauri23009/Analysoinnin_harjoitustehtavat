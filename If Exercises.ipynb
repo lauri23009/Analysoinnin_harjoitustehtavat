{
 "cells": [
  {
   "cell_type": "code",
   "execution_count": 4,
   "metadata": {},
   "outputs": [
    {
     "name": "stdout",
     "output_type": "stream",
     "text": [
      "number1 and number2 are not equal\n"
     ]
    }
   ],
   "source": [
    "number1 = 10\n",
    "number2 = 20\n",
    "\n",
    "if number1 == number2:\n",
    "    print(\"number1 and number2 are equal\")\n",
    "if number1 > number2:\n",
    "    print(\"number1 is greater then number2\")\n",
    "if number1 >= number2:\n",
    "    print(\"number1 is greater or equal to number2\")\n",
    "if number1 != number2:\n",
    "    print(\"number1 and number2 are not equal\")"
   ]
  },
  {
   "cell_type": "code",
   "execution_count": 13,
   "metadata": {},
   "outputs": [
    {
     "name": "stdout",
     "output_type": "stream",
     "text": [
      "number2 is the greatesr number\n",
      "number1 and number3 are equal\n"
     ]
    }
   ],
   "source": [
    "number1 = 12\n",
    "number2 = 13\n",
    "number3 = 12\n",
    "\n",
    "if number1 == number2 == number3:\n",
    "    print(\"All the number are equal\")\n",
    "if number1 == number2 or number2 == number3:\n",
    "    print(\"Either number1 and number2 are equal or number2 and number3 are equal\")\n",
    "if number1 > number2 and number1 > number3:\n",
    "    print(\"number1 is the greatest number\")\n",
    "\n",
    "if number1 > number2:\n",
    "    print (\"number1 is greater then number2\")\n",
    "elif number2 > number3:\n",
    "    print(\"number2 is the greatesr number\")\n",
    "\n",
    "if number1 == number2:\n",
    "    print(\"number1 and number2 are equal\")\n",
    "elif number1 == number3:\n",
    "    print(\"number1 and number3 are equal\")\n",
    "\n"
   ]
  },
  {
   "cell_type": "code",
   "execution_count": 19,
   "metadata": {},
   "outputs": [
    {
     "name": "stdout",
     "output_type": "stream",
     "text": [
      "Names 1 and 2 are not equal\n",
      "Names 1 and 3 are equal\n"
     ]
    }
   ],
   "source": [
    "name1 = \"Lisa\"\n",
    "name2 = \"Alex\"\n",
    "name3 = \"Lisa\"\n",
    "\n",
    "if name1 == name2:\n",
    "    print(\"Names 1 and 2 are equal\")\n",
    "if name1 != name2:\n",
    "    print(\"Names 1 and 2 are not equal\")\n",
    "\n",
    "if name1 == name2:\n",
    "    print(\"Names 1 and 2 are equal\")\n",
    "elif name1 == name3:\n",
    "    print(\"Names 1 and 3 are equal\")\n",
    "\n",
    "\n"
   ]
  }
 ],
 "metadata": {
  "kernelspec": {
   "display_name": "Python 3",
   "language": "python",
   "name": "python3"
  },
  "language_info": {
   "codemirror_mode": {
    "name": "ipython",
    "version": 3
   },
   "file_extension": ".py",
   "mimetype": "text/x-python",
   "name": "python",
   "nbconvert_exporter": "python",
   "pygments_lexer": "ipython3",
   "version": "3.12.0"
  }
 },
 "nbformat": 4,
 "nbformat_minor": 2
}
