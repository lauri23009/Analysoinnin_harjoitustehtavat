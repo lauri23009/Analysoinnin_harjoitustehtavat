{
 "cells": [
  {
   "cell_type": "code",
   "execution_count": 40,
   "metadata": {},
   "outputs": [
    {
     "name": "stdout",
     "output_type": "stream",
     "text": [
      "['sofa', 'shelf', 'table', 'chair']\n",
      "['sofa', 'shelf']\n",
      "sofa\n"
     ]
    }
   ],
   "source": [
    "# Exercise 1\n",
    "\n",
    "#1\n",
    "list = [\"sofa\", \"shelf\", \"table\"]\n",
    "list.append(\"chair\")\n",
    "\n",
    "#2\n",
    "print(list)\n",
    "\n",
    "#3\n",
    "print(list [:2])\n",
    "\n",
    "#4\n",
    "if \"sofa\" in list:\n",
    "    print(\"sofa\")\n",
    "else:\n",
    "    print(\"The item (sofa) could not be found\")"
   ]
  },
  {
   "cell_type": "code",
   "execution_count": 66,
   "metadata": {},
   "outputs": [
    {
     "name": "stdout",
     "output_type": "stream",
     "text": [
      "[1, 8, 2, 4, 9]\n",
      "24\n",
      "9\n"
     ]
    }
   ],
   "source": [
    "# Exercise 2\n",
    "\n",
    "#1\n",
    "import random\n",
    "\n",
    "\n",
    "list_lenght = 5\n",
    "thrownDiceNumbers = []\n",
    "\n",
    "#2\n",
    "for _ in range(list_lenght):\n",
    "    random_number = random.randint(1, 10)\n",
    "    thrownDiceNumbers.append(random_number)\n",
    "\n",
    "#3\n",
    "print(thrownDiceNumbers)\n",
    "\n",
    "\n",
    "#4\n",
    "sum_of_numbers = sum(thrownDiceNumbers)\n",
    "\n",
    "print(sum_of_numbers)\n",
    "\n",
    "\n",
    "#5\n",
    "highest_value = max(thrownDiceNumbers)\n",
    "\n",
    "print(highest_value)\n",
    "\n"
   ]
  },
  {
   "cell_type": "code",
   "execution_count": 89,
   "metadata": {},
   "outputs": [
    {
     "name": "stdout",
     "output_type": "stream",
     "text": [
      "[20, 18, 2, 7, 4]\n"
     ]
    }
   ],
   "source": [
    "# Exercise 3\n",
    "\n",
    "import random\n",
    "\n",
    "list_lenght = 5\n",
    "FiveNumbers = []\n",
    "\n",
    "for _ in range(list_lenght):\n",
    "    while True:\n",
    "        random_number = random.randint(1, 20)\n",
    "        if random_number not in FiveNumbers:\n",
    "            break \n",
    "\n",
    "\n",
    "    FiveNumbers.append(random_number)\n",
    "\n",
    "print(FiveNumbers)\n",
    "\n"
   ]
  }
 ],
 "metadata": {
  "kernelspec": {
   "display_name": "Python 3",
   "language": "python",
   "name": "python3"
  },
  "language_info": {
   "codemirror_mode": {
    "name": "ipython",
    "version": 3
   },
   "file_extension": ".py",
   "mimetype": "text/x-python",
   "name": "python",
   "nbconvert_exporter": "python",
   "pygments_lexer": "ipython3",
   "version": "3.12.0"
  }
 },
 "nbformat": 4,
 "nbformat_minor": 2
}
